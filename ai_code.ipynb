{
 "cells": [
  {
   "cell_type": "code",
   "execution_count": 1,
   "id": "3d7a07b0",
   "metadata": {},
   "outputs": [
    {
     "name": "stdout",
     "output_type": "stream",
     "text": [
      "Requirement already satisfied: SpeechRecognition in c:\\users\\kgr\\anaconda3\\lib\\site-packages (3.14.2)\n",
      "Requirement already satisfied: pyaudio in c:\\users\\kgr\\anaconda3\\lib\\site-packages (0.2.14)\n",
      "Requirement already satisfied: pydub in c:\\users\\kgr\\anaconda3\\lib\\site-packages (0.25.1)\n",
      "Requirement already satisfied: typing-extensions in c:\\users\\kgr\\anaconda3\\lib\\site-packages (from SpeechRecognition) (4.13.2)\n",
      "Requirement already satisfied: torch in c:\\users\\kgr\\anaconda3\\lib\\site-packages (2.7.0)\n",
      "Requirement already satisfied: filelock in c:\\users\\kgr\\anaconda3\\lib\\site-packages (from torch) (3.9.0)\n",
      "Requirement already satisfied: typing-extensions>=4.10.0 in c:\\users\\kgr\\anaconda3\\lib\\site-packages (from torch) (4.13.2)\n",
      "Requirement already satisfied: sympy>=1.13.3 in c:\\users\\kgr\\anaconda3\\lib\\site-packages (from torch) (1.13.3)\n",
      "Requirement already satisfied: networkx in c:\\users\\kgr\\anaconda3\\lib\\site-packages (from torch) (3.1)\n",
      "Requirement already satisfied: jinja2 in c:\\users\\kgr\\anaconda3\\lib\\site-packages (from torch) (3.1.2)\n",
      "Requirement already satisfied: fsspec in c:\\users\\kgr\\anaconda3\\lib\\site-packages (from torch) (2023.4.0)\n",
      "Requirement already satisfied: mpmath<1.4,>=1.1.0 in c:\\users\\kgr\\anaconda3\\lib\\site-packages (from sympy>=1.13.3->torch) (1.3.0)\n",
      "Requirement already satisfied: MarkupSafe>=2.0 in c:\\users\\kgr\\anaconda3\\lib\\site-packages (from jinja2->torch) (2.1.1)\n"
     ]
    }
   ],
   "source": [
    "! pip install SpeechRecognition pyaudio pydub\n",
    "! pip install torch"
   ]
  },
  {
   "cell_type": "code",
   "execution_count": 2,
   "id": "abb4aa6a",
   "metadata": {},
   "outputs": [
    {
     "name": "stdout",
     "output_type": "stream",
     "text": [
      "Requirement already satisfied: sounddevice in c:\\users\\kgr\\anaconda3\\lib\\site-packages (0.5.1)\n",
      "Requirement already satisfied: CFFI>=1.0 in c:\\users\\kgr\\anaconda3\\lib\\site-packages (from sounddevice) (1.15.1)\n",
      "Requirement already satisfied: pycparser in c:\\users\\kgr\\anaconda3\\lib\\site-packages (from CFFI>=1.0->sounddevice) (2.21)\n",
      "Requirement already satisfied: scipy in c:\\users\\kgr\\anaconda3\\lib\\site-packages (1.11.1)\n",
      "Requirement already satisfied: numpy<1.28.0,>=1.21.6 in c:\\users\\kgr\\anaconda3\\lib\\site-packages (from scipy) (1.24.3)\n",
      "Requirement already satisfied: transformers in c:\\users\\kgr\\anaconda3\\lib\\site-packages (4.32.1)\n",
      "Requirement already satisfied: filelock in c:\\users\\kgr\\anaconda3\\lib\\site-packages (from transformers) (3.9.0)\n",
      "Requirement already satisfied: huggingface-hub<1.0,>=0.15.1 in c:\\users\\kgr\\anaconda3\\lib\\site-packages (from transformers) (0.15.1)\n",
      "Requirement already satisfied: numpy>=1.17 in c:\\users\\kgr\\anaconda3\\lib\\site-packages (from transformers) (1.24.3)\n",
      "Requirement already satisfied: packaging>=20.0 in c:\\users\\kgr\\anaconda3\\lib\\site-packages (from transformers) (23.1)\n",
      "Requirement already satisfied: pyyaml>=5.1 in c:\\users\\kgr\\anaconda3\\lib\\site-packages (from transformers) (6.0)\n",
      "Requirement already satisfied: regex!=2019.12.17 in c:\\users\\kgr\\anaconda3\\lib\\site-packages (from transformers) (2022.7.9)\n",
      "Requirement already satisfied: requests in c:\\users\\kgr\\anaconda3\\lib\\site-packages (from transformers) (2.31.0)\n",
      "Requirement already satisfied: tokenizers!=0.11.3,<0.14,>=0.11.1 in c:\\users\\kgr\\anaconda3\\lib\\site-packages (from transformers) (0.13.2)\n",
      "Requirement already satisfied: safetensors>=0.3.1 in c:\\users\\kgr\\anaconda3\\lib\\site-packages (from transformers) (0.3.2)\n",
      "Requirement already satisfied: tqdm>=4.27 in c:\\users\\kgr\\anaconda3\\lib\\site-packages (from transformers) (4.65.0)\n",
      "Requirement already satisfied: fsspec in c:\\users\\kgr\\anaconda3\\lib\\site-packages (from huggingface-hub<1.0,>=0.15.1->transformers) (2023.4.0)\n",
      "Requirement already satisfied: typing-extensions>=3.7.4.3 in c:\\users\\kgr\\anaconda3\\lib\\site-packages (from huggingface-hub<1.0,>=0.15.1->transformers) (4.13.2)\n",
      "Requirement already satisfied: colorama in c:\\users\\kgr\\anaconda3\\lib\\site-packages (from tqdm>=4.27->transformers) (0.4.6)\n",
      "Requirement already satisfied: charset-normalizer<4,>=2 in c:\\users\\kgr\\anaconda3\\lib\\site-packages (from requests->transformers) (2.0.4)\n",
      "Requirement already satisfied: idna<4,>=2.5 in c:\\users\\kgr\\anaconda3\\lib\\site-packages (from requests->transformers) (3.4)\n",
      "Requirement already satisfied: urllib3<3,>=1.21.1 in c:\\users\\kgr\\anaconda3\\lib\\site-packages (from requests->transformers) (1.26.16)\n",
      "Requirement already satisfied: certifi>=2017.4.17 in c:\\users\\kgr\\anaconda3\\lib\\site-packages (from requests->transformers) (2023.7.22)\n",
      "Requirement already satisfied: librosa in c:\\users\\kgr\\anaconda3\\lib\\site-packages (0.11.0)\n",
      "Requirement already satisfied: audioread>=2.1.9 in c:\\users\\kgr\\anaconda3\\lib\\site-packages (from librosa) (3.0.1)\n",
      "Requirement already satisfied: numba>=0.51.0 in c:\\users\\kgr\\anaconda3\\lib\\site-packages (from librosa) (0.57.1)\n",
      "Requirement already satisfied: numpy>=1.22.3 in c:\\users\\kgr\\anaconda3\\lib\\site-packages (from librosa) (1.24.3)\n",
      "Requirement already satisfied: scipy>=1.6.0 in c:\\users\\kgr\\anaconda3\\lib\\site-packages (from librosa) (1.11.1)\n",
      "Requirement already satisfied: scikit-learn>=1.1.0 in c:\\users\\kgr\\anaconda3\\lib\\site-packages (from librosa) (1.3.0)\n",
      "Requirement already satisfied: joblib>=1.0 in c:\\users\\kgr\\anaconda3\\lib\\site-packages (from librosa) (1.2.0)\n",
      "Requirement already satisfied: decorator>=4.3.0 in c:\\users\\kgr\\anaconda3\\lib\\site-packages (from librosa) (5.1.1)\n",
      "Requirement already satisfied: soundfile>=0.12.1 in c:\\users\\kgr\\anaconda3\\lib\\site-packages (from librosa) (0.13.1)\n",
      "Requirement already satisfied: pooch>=1.1 in c:\\users\\kgr\\anaconda3\\lib\\site-packages (from librosa) (1.8.2)\n",
      "Requirement already satisfied: soxr>=0.3.2 in c:\\users\\kgr\\anaconda3\\lib\\site-packages (from librosa) (0.5.0.post1)\n",
      "Requirement already satisfied: typing_extensions>=4.1.1 in c:\\users\\kgr\\anaconda3\\lib\\site-packages (from librosa) (4.13.2)\n",
      "Requirement already satisfied: lazy_loader>=0.1 in c:\\users\\kgr\\anaconda3\\lib\\site-packages (from librosa) (0.2)\n",
      "Requirement already satisfied: msgpack>=1.0 in c:\\users\\kgr\\anaconda3\\lib\\site-packages (from librosa) (1.0.3)\n",
      "Requirement already satisfied: llvmlite<0.41,>=0.40.0dev0 in c:\\users\\kgr\\anaconda3\\lib\\site-packages (from numba>=0.51.0->librosa) (0.40.0)\n",
      "Requirement already satisfied: platformdirs>=2.5.0 in c:\\users\\kgr\\anaconda3\\lib\\site-packages (from pooch>=1.1->librosa) (3.10.0)\n",
      "Requirement already satisfied: packaging>=20.0 in c:\\users\\kgr\\anaconda3\\lib\\site-packages (from pooch>=1.1->librosa) (23.1)\n",
      "Requirement already satisfied: requests>=2.19.0 in c:\\users\\kgr\\anaconda3\\lib\\site-packages (from pooch>=1.1->librosa) (2.31.0)\n",
      "Requirement already satisfied: threadpoolctl>=2.0.0 in c:\\users\\kgr\\anaconda3\\lib\\site-packages (from scikit-learn>=1.1.0->librosa) (2.2.0)\n",
      "Requirement already satisfied: cffi>=1.0 in c:\\users\\kgr\\anaconda3\\lib\\site-packages (from soundfile>=0.12.1->librosa) (1.15.1)\n",
      "Requirement already satisfied: pycparser in c:\\users\\kgr\\anaconda3\\lib\\site-packages (from cffi>=1.0->soundfile>=0.12.1->librosa) (2.21)\n",
      "Requirement already satisfied: charset-normalizer<4,>=2 in c:\\users\\kgr\\anaconda3\\lib\\site-packages (from requests>=2.19.0->pooch>=1.1->librosa) (2.0.4)\n",
      "Requirement already satisfied: idna<4,>=2.5 in c:\\users\\kgr\\anaconda3\\lib\\site-packages (from requests>=2.19.0->pooch>=1.1->librosa) (3.4)\n",
      "Requirement already satisfied: urllib3<3,>=1.21.1 in c:\\users\\kgr\\anaconda3\\lib\\site-packages (from requests>=2.19.0->pooch>=1.1->librosa) (1.26.16)\n",
      "Requirement already satisfied: certifi>=2017.4.17 in c:\\users\\kgr\\anaconda3\\lib\\site-packages (from requests>=2.19.0->pooch>=1.1->librosa) (2023.7.22)\n",
      "Requirement already satisfied: torch in c:\\users\\kgr\\anaconda3\\lib\\site-packages (2.7.0)\n",
      "Requirement already satisfied: filelock in c:\\users\\kgr\\anaconda3\\lib\\site-packages (from torch) (3.9.0)\n",
      "Requirement already satisfied: typing-extensions>=4.10.0 in c:\\users\\kgr\\anaconda3\\lib\\site-packages (from torch) (4.13.2)\n",
      "Requirement already satisfied: sympy>=1.13.3 in c:\\users\\kgr\\anaconda3\\lib\\site-packages (from torch) (1.13.3)\n",
      "Requirement already satisfied: networkx in c:\\users\\kgr\\anaconda3\\lib\\site-packages (from torch) (3.1)\n",
      "Requirement already satisfied: jinja2 in c:\\users\\kgr\\anaconda3\\lib\\site-packages (from torch) (3.1.2)\n",
      "Requirement already satisfied: fsspec in c:\\users\\kgr\\anaconda3\\lib\\site-packages (from torch) (2023.4.0)\n",
      "Requirement already satisfied: mpmath<1.4,>=1.1.0 in c:\\users\\kgr\\anaconda3\\lib\\site-packages (from sympy>=1.13.3->torch) (1.3.0)\n",
      "Requirement already satisfied: MarkupSafe>=2.0 in c:\\users\\kgr\\anaconda3\\lib\\site-packages (from jinja2->torch) (2.1.1)\n"
     ]
    }
   ],
   "source": [
    "!pip install sounddevice\n",
    "!pip install scipy\n",
    "!pip install transformers\n",
    "!pip install librosa\n",
    "!pip install torch   "
   ]
  },
  {
   "cell_type": "code",
   "execution_count": 17,
   "id": "5c5a7d2a",
   "metadata": {},
   "outputs": [
    {
     "name": "stdout",
     "output_type": "stream",
     "text": [
      "🌐 Downloading model from Hugging Face...\n"
     ]
    },
    {
     "data": {
      "application/vnd.jupyter.widget-view+json": {
       "model_id": "55a79fc72c904164a6c920305960b0c4",
       "version_major": 2,
       "version_minor": 0
      },
      "text/plain": [
       "Downloading (…)rocessor_config.json:   0%|          | 0.00/159 [00:00<?, ?B/s]"
      ]
     },
     "metadata": {},
     "output_type": "display_data"
    },
    {
     "data": {
      "application/vnd.jupyter.widget-view+json": {
       "model_id": "54128a1bd8af44dbb20084d136bfe3d5",
       "version_major": 2,
       "version_minor": 0
      },
      "text/plain": [
       "Downloading tokenizer_config.json:   0%|          | 0.00/163 [00:00<?, ?B/s]"
      ]
     },
     "metadata": {},
     "output_type": "display_data"
    },
    {
     "data": {
      "application/vnd.jupyter.widget-view+json": {
       "model_id": "167a846d4933467797893064fd1d0226",
       "version_major": 2,
       "version_minor": 0
      },
      "text/plain": [
       "Downloading config.json:   0%|          | 0.00/1.60k [00:00<?, ?B/s]"
      ]
     },
     "metadata": {},
     "output_type": "display_data"
    },
    {
     "data": {
      "application/vnd.jupyter.widget-view+json": {
       "model_id": "d532abf6afc04d00bdca414f29915136",
       "version_major": 2,
       "version_minor": 0
      },
      "text/plain": [
       "Downloading vocab.json:   0%|          | 0.00/291 [00:00<?, ?B/s]"
      ]
     },
     "metadata": {},
     "output_type": "display_data"
    },
    {
     "data": {
      "application/vnd.jupyter.widget-view+json": {
       "model_id": "9eaaa3b5dcb044d0a71e4cd94ec4a850",
       "version_major": 2,
       "version_minor": 0
      },
      "text/plain": [
       "Downloading (…)cial_tokens_map.json:   0%|          | 0.00/85.0 [00:00<?, ?B/s]"
      ]
     },
     "metadata": {},
     "output_type": "display_data"
    },
    {
     "data": {
      "application/vnd.jupyter.widget-view+json": {
       "model_id": "1da189d370764a828f9d762b1df4745d",
       "version_major": 2,
       "version_minor": 0
      },
      "text/plain": [
       "Downloading model.safetensors:   0%|          | 0.00/378M [00:00<?, ?B/s]"
      ]
     },
     "metadata": {},
     "output_type": "display_data"
    },
    {
     "name": "stderr",
     "output_type": "stream",
     "text": [
      "Some weights of the model checkpoint at facebook/wav2vec2-base-960h were not used when initializing Wav2Vec2ForCTC: ['wav2vec2.encoder.pos_conv_embed.conv.weight_g', 'wav2vec2.encoder.pos_conv_embed.conv.weight_v']\n",
      "- This IS expected if you are initializing Wav2Vec2ForCTC from the checkpoint of a model trained on another task or with another architecture (e.g. initializing a BertForSequenceClassification model from a BertForPreTraining model).\n",
      "- This IS NOT expected if you are initializing Wav2Vec2ForCTC from the checkpoint of a model that you expect to be exactly identical (initializing a BertForSequenceClassification model from a BertForSequenceClassification model).\n",
      "Some weights of Wav2Vec2ForCTC were not initialized from the model checkpoint at facebook/wav2vec2-base-960h and are newly initialized: ['wav2vec2.encoder.pos_conv_embed.conv.parametrizations.weight.original1', 'wav2vec2.masked_spec_embed', 'wav2vec2.encoder.pos_conv_embed.conv.parametrizations.weight.original0']\n",
      "You should probably TRAIN this model on a down-stream task to be able to use it for predictions and inference.\n"
     ]
    },
    {
     "name": "stdout",
     "output_type": "stream",
     "text": [
      "💾 Model saved locally to: d:\\ai\\wav2vec2_model\n"
     ]
    },
    {
     "data": {
      "text/plain": [
       "(Wav2Vec2Processor:\n",
       " - feature_extractor: Wav2Vec2FeatureExtractor {\n",
       "   \"do_normalize\": true,\n",
       "   \"feature_extractor_type\": \"Wav2Vec2FeatureExtractor\",\n",
       "   \"feature_size\": 1,\n",
       "   \"padding_side\": \"right\",\n",
       "   \"padding_value\": 0.0,\n",
       "   \"processor_class\": \"Wav2Vec2Processor\",\n",
       "   \"return_attention_mask\": false,\n",
       "   \"sampling_rate\": 16000\n",
       " }\n",
       " \n",
       " - tokenizer: Wav2Vec2CTCTokenizer(name_or_path='facebook/wav2vec2-base-960h', vocab_size=32, model_max_length=9223372036854775807, is_fast=False, padding_side='right', truncation_side='right', special_tokens={'bos_token': '<s>', 'eos_token': '</s>', 'unk_token': '<unk>', 'pad_token': '<pad>'}, clean_up_tokenization_spaces=True),\n",
       " Wav2Vec2ForCTC(\n",
       "   (wav2vec2): Wav2Vec2Model(\n",
       "     (feature_extractor): Wav2Vec2FeatureEncoder(\n",
       "       (conv_layers): ModuleList(\n",
       "         (0): Wav2Vec2GroupNormConvLayer(\n",
       "           (conv): Conv1d(1, 512, kernel_size=(10,), stride=(5,), bias=False)\n",
       "           (activation): GELUActivation()\n",
       "           (layer_norm): GroupNorm(512, 512, eps=1e-05, affine=True)\n",
       "         )\n",
       "         (1-4): 4 x Wav2Vec2NoLayerNormConvLayer(\n",
       "           (conv): Conv1d(512, 512, kernel_size=(3,), stride=(2,), bias=False)\n",
       "           (activation): GELUActivation()\n",
       "         )\n",
       "         (5-6): 2 x Wav2Vec2NoLayerNormConvLayer(\n",
       "           (conv): Conv1d(512, 512, kernel_size=(2,), stride=(2,), bias=False)\n",
       "           (activation): GELUActivation()\n",
       "         )\n",
       "       )\n",
       "     )\n",
       "     (feature_projection): Wav2Vec2FeatureProjection(\n",
       "       (layer_norm): LayerNorm((512,), eps=1e-05, elementwise_affine=True)\n",
       "       (projection): Linear(in_features=512, out_features=768, bias=True)\n",
       "       (dropout): Dropout(p=0.1, inplace=False)\n",
       "     )\n",
       "     (encoder): Wav2Vec2Encoder(\n",
       "       (pos_conv_embed): Wav2Vec2PositionalConvEmbedding(\n",
       "         (conv): ParametrizedConv1d(\n",
       "           768, 768, kernel_size=(128,), stride=(1,), padding=(64,), groups=16\n",
       "           (parametrizations): ModuleDict(\n",
       "             (weight): ParametrizationList(\n",
       "               (0): _WeightNorm()\n",
       "             )\n",
       "           )\n",
       "         )\n",
       "         (padding): Wav2Vec2SamePadLayer()\n",
       "         (activation): GELUActivation()\n",
       "       )\n",
       "       (layer_norm): LayerNorm((768,), eps=1e-05, elementwise_affine=True)\n",
       "       (dropout): Dropout(p=0.1, inplace=False)\n",
       "       (layers): ModuleList(\n",
       "         (0-11): 12 x Wav2Vec2EncoderLayer(\n",
       "           (attention): Wav2Vec2Attention(\n",
       "             (k_proj): Linear(in_features=768, out_features=768, bias=True)\n",
       "             (v_proj): Linear(in_features=768, out_features=768, bias=True)\n",
       "             (q_proj): Linear(in_features=768, out_features=768, bias=True)\n",
       "             (out_proj): Linear(in_features=768, out_features=768, bias=True)\n",
       "           )\n",
       "           (dropout): Dropout(p=0.1, inplace=False)\n",
       "           (layer_norm): LayerNorm((768,), eps=1e-05, elementwise_affine=True)\n",
       "           (feed_forward): Wav2Vec2FeedForward(\n",
       "             (intermediate_dropout): Dropout(p=0.1, inplace=False)\n",
       "             (intermediate_dense): Linear(in_features=768, out_features=3072, bias=True)\n",
       "             (intermediate_act_fn): GELUActivation()\n",
       "             (output_dense): Linear(in_features=3072, out_features=768, bias=True)\n",
       "             (output_dropout): Dropout(p=0.1, inplace=False)\n",
       "           )\n",
       "           (final_layer_norm): LayerNorm((768,), eps=1e-05, elementwise_affine=True)\n",
       "         )\n",
       "       )\n",
       "     )\n",
       "   )\n",
       "   (dropout): Dropout(p=0.1, inplace=False)\n",
       "   (lm_head): Linear(in_features=768, out_features=32, bias=True)\n",
       " ))"
      ]
     },
     "execution_count": 17,
     "metadata": {},
     "output_type": "execute_result"
    }
   ],
   "source": [
    "import os\n",
    "import torch\n",
    "import sounddevice as sd\n",
    "from scipy.io.wavfile import write\n",
    "from transformers import Wav2Vec2ForCTC, Wav2Vec2Processor\n",
    "import librosa\n",
    "\n",
    "# Use current working directory to save/load model\n",
    "SCRIPT_DIR = os.getcwd()  # Get current working directory\n",
    "MODEL_PATH = os.path.join(SCRIPT_DIR, \"wav2vec2_model\")  # Path to save the model\n",
    "\n",
    "# Create the directory if it doesn't exist\n",
    "os.makedirs(MODEL_PATH, exist_ok=True)\n",
    "\n",
    "# Load or download model to current directory\n",
    "def load_or_download_model():\n",
    "    # Download and save model locally if not already saved\n",
    "    if not os.path.exists(os.path.join(MODEL_PATH, \"pytorch_model.bin\")):\n",
    "        print(\"🌐 Downloading model from Hugging Face...\")\n",
    "        \n",
    "        # Load the model and processor from Hugging Face\n",
    "        processor = Wav2Vec2Processor.from_pretrained(\"facebook/wav2vec2-base-960h\")\n",
    "        model = Wav2Vec2ForCTC.from_pretrained(\"facebook/wav2vec2-base-960h\")\n",
    "        \n",
    "        # Save the model and processor locally as .bin and other necessary files\n",
    "        processor.save_pretrained(MODEL_PATH)  # Save processor files\n",
    "        model.save_pretrained(MODEL_PATH)  # Save model weights (pytorch_model.bin) and config\n",
    "        \n",
    "        print(f\"💾 Model saved locally to: {MODEL_PATH}\")\n",
    "    else:\n",
    "        print(f\"📦 Loading model from local directory: {MODEL_PATH}\")\n",
    "        processor = Wav2Vec2Processor.from_pretrained(MODEL_PATH)\n",
    "        model = Wav2Vec2ForCTC.from_pretrained(MODEL_PATH)\n",
    "\n",
    "    return processor, model\n",
    "\n",
    "# Record audio from mic\n",
    "def record_audio(duration=5, filename=\"mic_audio.wav\"):\n",
    "    print(\"🎤 Recording...\")\n",
    "    fs = 16000  # sample rate\n",
    "    audio = sd.rec(int(duration * fs), samplerate=fs, channels=1)\n",
    "    sd.wait()  # wait until recording is finished\n",
    "    write(filename, fs, audio)\n",
    "    print(f\"✅ Saved: {filename}\")\n",
    "    return filename\n",
    "\n",
    "# Transcribe using Wav2Vec2\n",
    "def transcribe_wav2vec2(file_path):\n",
    "    processor, model = load_or_download_model()\n",
    "\n",
    "    audio, _ = librosa.load(file_path, sr=16000)\n",
    "    input_values = processor(audio, return_tensors=\"pt\", sampling_rate=16000).input_values\n",
    "\n",
    "    with torch.no_grad():\n",
    "        logits = model(input_values).logits\n",
    "\n",
    "    predicted_ids = torch.argmax(logits, dim=-1)\n",
    "    transcription = processor.decode(predicted_ids[0])\n",
    "    print(\"📝 Transcription:\", transcription)\n",
    "\n",
    "# ---------- Run ----------\n",
    "# Uncomment below lines to run the code\n",
    "\n",
    "# file = record_audio()\n",
    "# transcribe_wav2vec2(file)\n",
    "load_or_download_model()"
   ]
  },
  {
   "cell_type": "code",
   "execution_count": null,
   "id": "22080c54",
   "metadata": {},
   "outputs": [],
   "source": []
  },
  {
   "cell_type": "code",
   "execution_count": null,
   "id": "bd579a5a",
   "metadata": {},
   "outputs": [],
   "source": []
  },
  {
   "cell_type": "code",
   "execution_count": null,
   "id": "2aab2674",
   "metadata": {},
   "outputs": [],
   "source": []
  }
 ],
 "metadata": {
  "kernelspec": {
   "display_name": "base",
   "language": "python",
   "name": "python3"
  },
  "language_info": {
   "codemirror_mode": {
    "name": "ipython",
    "version": 3
   },
   "file_extension": ".py",
   "mimetype": "text/x-python",
   "name": "python",
   "nbconvert_exporter": "python",
   "pygments_lexer": "ipython3",
   "version": "3.11.5"
  }
 },
 "nbformat": 4,
 "nbformat_minor": 5
}
